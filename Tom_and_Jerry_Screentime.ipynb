{
  "nbformat": 4,
  "nbformat_minor": 0,
  "metadata": {
    "colab": {
      "provenance": [],
      "gpuType": "T4"
    },
    "kernelspec": {
      "name": "python3",
      "display_name": "Python 3"
    },
    "language_info": {
      "name": "python"
    },
    "accelerator": "GPU"
  },
  "cells": [
    {
      "cell_type": "code",
      "execution_count": 120,
      "metadata": {
        "id": "W_SrJog4mIL3"
      },
      "outputs": [],
      "source": [
        "import cv2\n",
        "import math\n",
        "import matplotlib.pyplot as plt\n",
        "import pandas as pd\n",
        "%matplotlib inline\n",
        "from tensorflow.keras.preprocessing import image\n",
        "import numpy as np\n",
        "from skimage.transform import resize"
      ]
    },
    {
      "cell_type": "code",
      "source": [
        "count = 0\n",
        "videoFile = \"Tom and jerry.mp4\"\n",
        "cap = cv2.VideoCapture(videoFile)\n",
        "frameRate = cap.get(5) #frame rate\n",
        "x=1\n",
        "while(cap.isOpened()):\n",
        "    frameId = cap.get(1) #current frame number\n",
        "    ret, frame = cap.read()\n",
        "    if (ret != True):\n",
        "        break\n",
        "    if (frameId % math.floor(frameRate) == 0):\n",
        "        filename =\"frame%d.jpg\" % count;count+=1\n",
        "        cv2.imwrite(filename, frame)\n",
        "cap.release()\n",
        "print (\"Done!\")"
      ],
      "metadata": {
        "colab": {
          "base_uri": "https://localhost:8080/"
        },
        "id": "vPRfiHpemxWY",
        "outputId": "d1fa0a26-a6ec-4eed-d3b9-ead41e57b284"
      },
      "execution_count": 121,
      "outputs": [
        {
          "output_type": "stream",
          "name": "stdout",
          "text": [
            "Done!\n"
          ]
        }
      ]
    },
    {
      "cell_type": "code",
      "source": [
        "count = 0\n",
        "videoFile = \"Tom and Jerry 3.mp4\"\n",
        "cap = cv2.VideoCapture(videoFile)\n",
        "frameRate = cap.get(5) #frame rate\n",
        "x=1\n",
        "while(cap.isOpened()):\n",
        "    frameId = cap.get(1) #current frame number\n",
        "    ret, frame = cap.read()\n",
        "    if (ret != True):\n",
        "        break\n",
        "    if (frameId % math.floor(frameRate) == 0):\n",
        "        filename =\"test%d.jpg\" % count;count+=1\n",
        "        cv2.imwrite(filename, frame)\n",
        "cap.release()\n",
        "print (\"Done!\")"
      ],
      "metadata": {
        "colab": {
          "base_uri": "https://localhost:8080/"
        },
        "id": "0CeXsnBgqHiL",
        "outputId": "98ed2330-b50c-4964-8a8a-51c2b71d8613"
      },
      "execution_count": 122,
      "outputs": [
        {
          "output_type": "stream",
          "name": "stdout",
          "text": [
            "Done!\n"
          ]
        }
      ]
    },
    {
      "cell_type": "code",
      "source": [
        "data = pd.read_csv('mapping.csv')\n",
        "test = pd.read_csv('test.csv')"
      ],
      "metadata": {
        "id": "2UnCA70-n3M4"
      },
      "execution_count": 124,
      "outputs": []
    },
    {
      "cell_type": "code",
      "source": [
        "X = []\n",
        "for img_name in data.Image_ID:\n",
        "    img = plt.imread('' + img_name)\n",
        "    X.append(img)\n",
        "X = np.array(X)\n",
        "\n",
        "test_image = []\n",
        "for img_name in test.Image_ID:\n",
        "    img = plt.imread('' + img_name)\n",
        "    test_image.append(img)\n",
        "test_img = np.array(test_image)"
      ],
      "metadata": {
        "id": "60KHHWzDoLze"
      },
      "execution_count": 125,
      "outputs": []
    },
    {
      "cell_type": "code",
      "source": [
        "from keras.utils import to_categorical\n",
        "train_y = to_categorical(data.Class)"
      ],
      "metadata": {
        "id": "sgpGzgUOrBP7"
      },
      "execution_count": 127,
      "outputs": []
    },
    {
      "cell_type": "code",
      "source": [
        "image = []\n",
        "for i in range(0,X.shape[0]):\n",
        "    a = resize(X[i], preserve_range=True, output_shape=(224,224,3)).astype(int)\n",
        "    image.append(a)\n",
        "X = np.array(image)\n",
        "\n",
        "test_image = []\n",
        "for i in range(0,test_img.shape[0]):\n",
        "    a = resize(test_img[i], preserve_range=True, output_shape=(224,224)).astype(int)\n",
        "    test_image.append(a)\n",
        "test_image = np.array(test_image)"
      ],
      "metadata": {
        "id": "ft_HB1jdtdrh"
      },
      "execution_count": 141,
      "outputs": []
    },
    {
      "cell_type": "code",
      "source": [
        "X.shape"
      ],
      "metadata": {
        "colab": {
          "base_uri": "https://localhost:8080/"
        },
        "id": "LY1CuWDAL3HS",
        "outputId": "2e106836-b4cc-4502-89fb-f877058bd0ac"
      },
      "execution_count": 168,
      "outputs": [
        {
          "output_type": "execute_result",
          "data": {
            "text/plain": [
              "(298, 224, 224, 3)"
            ]
          },
          "metadata": {},
          "execution_count": 168
        }
      ]
    },
    {
      "cell_type": "code",
      "source": [
        "from keras.applications.vgg16 import preprocess_input\n",
        "X = preprocess_input(X)\n",
        "test_image = preprocess_input(test_image)"
      ],
      "metadata": {
        "id": "w-91N3H7tilc"
      },
      "execution_count": 142,
      "outputs": []
    },
    {
      "cell_type": "code",
      "source": [
        "from sklearn.model_selection import train_test_split\n",
        "X_train, X_valid, y_train, y_valid = train_test_split(X, train_y, test_size=0.3, random_state=42)"
      ],
      "metadata": {
        "id": "SvspCNpDt73y"
      },
      "execution_count": 143,
      "outputs": []
    },
    {
      "cell_type": "code",
      "source": [
        "from keras.models import Sequential\n",
        "from keras.applications.vgg16 import VGG16\n",
        "from keras.layers import Dense, InputLayer, Dropout"
      ],
      "metadata": {
        "id": "WLGX8VedvKqU"
      },
      "execution_count": 144,
      "outputs": []
    },
    {
      "cell_type": "code",
      "source": [
        "base_model = VGG16(weights='imagenet', include_top=False, input_shape=(224, 224, 3))"
      ],
      "metadata": {
        "id": "ZNJjdWzbvOKJ"
      },
      "execution_count": 145,
      "outputs": []
    },
    {
      "cell_type": "code",
      "source": [
        "X_train = base_model.predict(X_train)\n",
        "X_valid = base_model.predict(X_valid)\n",
        "test_image = base_model.predict(test_image)"
      ],
      "metadata": {
        "colab": {
          "base_uri": "https://localhost:8080/"
        },
        "id": "r-BWrl7svRQ0",
        "outputId": "c7149711-f9b8-4c50-9198-0ff248d11d9b"
      },
      "execution_count": 146,
      "outputs": [
        {
          "output_type": "stream",
          "name": "stdout",
          "text": [
            "7/7 [==============================] - 1s 131ms/step\n",
            "3/3 [==============================] - 0s 123ms/step\n",
            "6/6 [==============================] - 1s 125ms/step\n"
          ]
        }
      ]
    },
    {
      "cell_type": "code",
      "source": [
        "X_train.shape"
      ],
      "metadata": {
        "colab": {
          "base_uri": "https://localhost:8080/"
        },
        "id": "1Ns5jkNEvuQ1",
        "outputId": "3be0c134-6d25-433e-eac2-3482663fef4c"
      },
      "execution_count": 147,
      "outputs": [
        {
          "output_type": "execute_result",
          "data": {
            "text/plain": [
              "(208, 7, 7, 512)"
            ]
          },
          "metadata": {},
          "execution_count": 147
        }
      ]
    },
    {
      "cell_type": "code",
      "source": [
        "X_train = X_train.reshape(208, 7*7*512)\n",
        "X_valid = X_valid.reshape(90, 7*7*512)\n",
        "test_image = test_image.reshape(186, 7*7*512)"
      ],
      "metadata": {
        "id": "14C8c53Hv0l3"
      },
      "execution_count": 148,
      "outputs": []
    },
    {
      "cell_type": "code",
      "source": [
        "train = X_train/X_train.max()\n",
        "X_valid = X_valid/X_train.max()\n",
        "test_image = test_image/test_image.max()"
      ],
      "metadata": {
        "id": "7HR2vxM1wLhD"
      },
      "execution_count": 149,
      "outputs": []
    },
    {
      "cell_type": "code",
      "source": [
        "model = Sequential()\n",
        "model.add(InputLayer((7*7*512,)))    # input layer\n",
        "model.add(Dense(units=1024, activation='relu'))   # hidden layer\n",
        "model.add(Dropout(0.5))      # adding dropout\n",
        "model.add(Dense(units=512, activation='relu'))    # hidden layer\n",
        "model.add(Dropout(0.5))      # adding dropout\n",
        "model.add(Dense(units=256, activation='relu'))    # hidden layer\n",
        "model.add(Dropout(0.5))      # adding dropout\n",
        "model.add(Dense(3, activation='softmax'))            # output layer\n",
        "\n",
        "model.compile(loss='categorical_crossentropy', optimizer='adam', metrics=['accuracy'])"
      ],
      "metadata": {
        "id": "-dHRZc81NVum"
      },
      "execution_count": 242,
      "outputs": []
    },
    {
      "cell_type": "code",
      "source": [
        "from sklearn.utils.class_weight import compute_class_weight, compute_sample_weight\n",
        "class_weights = compute_class_weight('balanced',classes = np.unique(data.Class), y = data.Class)  # computing weights of different classes\n",
        "class_weights = dict(zip(np.unique(data.Class), class_weights))"
      ],
      "metadata": {
        "id": "iluvsIG-wSLT"
      },
      "execution_count": 243,
      "outputs": []
    },
    {
      "cell_type": "code",
      "source": [
        "pd.Series(data.Class).value_counts()"
      ],
      "metadata": {
        "colab": {
          "base_uri": "https://localhost:8080/"
        },
        "id": "NfIkaco2OTxe",
        "outputId": "d650004c-9d27-4826-88d5-92d57b7f0373"
      },
      "execution_count": 244,
      "outputs": [
        {
          "output_type": "execute_result",
          "data": {
            "text/plain": [
              "Class\n",
              "2    120\n",
              "0    111\n",
              "1     67\n",
              "Name: count, dtype: int64"
            ]
          },
          "metadata": {},
          "execution_count": 244
        }
      ]
    },
    {
      "cell_type": "code",
      "source": [
        "from keras.callbacks import ModelCheckpoint\n",
        "filepath=\"weights.best.hdf5\"\n",
        "checkpoint = ModelCheckpoint(filepath, monitor='val_loss', verbose=1, save_best_only=True, mode='min')\n",
        "callbacks_list = [checkpoint]      # model check pointing based on validation loss\n",
        "model.fit(X_train, y_train, epochs=100, validation_data=(X_valid, y_valid), class_weight=class_weights, callbacks=callbacks_list)"
      ],
      "metadata": {
        "colab": {
          "base_uri": "https://localhost:8080/"
        },
        "id": "0HPl_g2-wWzv",
        "outputId": "9ee23408-9702-4931-82f4-0dd7749c6346"
      },
      "execution_count": 245,
      "outputs": [
        {
          "output_type": "stream",
          "name": "stdout",
          "text": [
            "Epoch 1/100\n",
            "6/7 [========================>.....] - ETA: 0s - loss: 31.1580 - accuracy: 0.4792\n",
            "Epoch 1: val_loss improved from inf to 1.01753, saving model to weights.best.hdf5\n"
          ]
        },
        {
          "output_type": "stream",
          "name": "stderr",
          "text": [
            "/usr/local/lib/python3.10/dist-packages/keras/src/engine/training.py:3103: UserWarning: You are saving your model as an HDF5 file via `model.save()`. This file format is considered legacy. We recommend using instead the native Keras format, e.g. `model.save('my_model.keras')`.\n",
            "  saving_api.save_model(\n"
          ]
        },
        {
          "output_type": "stream",
          "name": "stdout",
          "text": [
            "\b\b\b\b\b\b\b\b\b\b\b\b\b\b\b\b\b\b\b\b\b\b\b\b\b\b\b\b\b\b\b\b\b\b\b\b\b\b\b\b\b\b\b\b\b\b\b\b\b\b\b\b\b\b\b\b\b\b\b\b\b\b\b\b\b\b\b\b\b\b\b\b\b\b\b\b\b\b\b\b\b\r7/7 [==============================] - 3s 296ms/step - loss: 30.9653 - accuracy: 0.4856 - val_loss: 1.0175 - val_accuracy: 0.6444\n",
            "Epoch 2/100\n",
            "5/7 [====================>.........] - ETA: 0s - loss: 49.9707 - accuracy: 0.6000\n",
            "Epoch 2: val_loss improved from 1.01753 to 0.95235, saving model to weights.best.hdf5\n",
            "7/7 [==============================] - 6s 1s/step - loss: 47.8578 - accuracy: 0.5865 - val_loss: 0.9523 - val_accuracy: 0.7000\n",
            "Epoch 3/100\n",
            "5/7 [====================>.........] - ETA: 0s - loss: 41.6041 - accuracy: 0.7000\n",
            "Epoch 3: val_loss improved from 0.95235 to 0.90300, saving model to weights.best.hdf5\n",
            "7/7 [==============================] - 6s 1s/step - loss: 39.7220 - accuracy: 0.7115 - val_loss: 0.9030 - val_accuracy: 0.7333\n",
            "Epoch 4/100\n",
            "6/7 [========================>.....] - ETA: 0s - loss: 26.4739 - accuracy: 0.7917\n",
            "Epoch 4: val_loss improved from 0.90300 to 0.87258, saving model to weights.best.hdf5\n",
            "7/7 [==============================] - 1s 245ms/step - loss: 30.3892 - accuracy: 0.7692 - val_loss: 0.8726 - val_accuracy: 0.7667\n",
            "Epoch 5/100\n",
            "6/7 [========================>.....] - ETA: 0s - loss: 22.6981 - accuracy: 0.8073\n",
            "Epoch 5: val_loss did not improve from 0.87258\n",
            "7/7 [==============================] - 0s 18ms/step - loss: 23.7969 - accuracy: 0.8029 - val_loss: 0.8804 - val_accuracy: 0.7222\n",
            "Epoch 6/100\n",
            "6/7 [========================>.....] - ETA: 0s - loss: 26.9171 - accuracy: 0.7917\n",
            "Epoch 6: val_loss improved from 0.87258 to 0.84955, saving model to weights.best.hdf5\n",
            "7/7 [==============================] - 11s 2s/step - loss: 27.4517 - accuracy: 0.7933 - val_loss: 0.8496 - val_accuracy: 0.8444\n",
            "Epoch 7/100\n",
            "6/7 [========================>.....] - ETA: 0s - loss: 15.9154 - accuracy: 0.8490\n",
            "Epoch 7: val_loss improved from 0.84955 to 0.84286, saving model to weights.best.hdf5\n",
            "7/7 [==============================] - 2s 289ms/step - loss: 14.6911 - accuracy: 0.8606 - val_loss: 0.8429 - val_accuracy: 0.8000\n",
            "Epoch 8/100\n",
            "6/7 [========================>.....] - ETA: 0s - loss: 13.4444 - accuracy: 0.8802\n",
            "Epoch 8: val_loss improved from 0.84286 to 0.83749, saving model to weights.best.hdf5\n",
            "7/7 [==============================] - 7s 1s/step - loss: 14.3462 - accuracy: 0.8654 - val_loss: 0.8375 - val_accuracy: 0.8111\n",
            "Epoch 9/100\n",
            "6/7 [========================>.....] - ETA: 0s - loss: 15.4601 - accuracy: 0.8802\n",
            "Epoch 9: val_loss improved from 0.83749 to 0.82857, saving model to weights.best.hdf5\n",
            "7/7 [==============================] - 6s 1s/step - loss: 15.3722 - accuracy: 0.8750 - val_loss: 0.8286 - val_accuracy: 0.8556\n",
            "Epoch 10/100\n",
            "6/7 [========================>.....] - ETA: 0s - loss: 10.5394 - accuracy: 0.9062\n",
            "Epoch 10: val_loss improved from 0.82857 to 0.81083, saving model to weights.best.hdf5\n",
            "7/7 [==============================] - 6s 1s/step - loss: 10.9497 - accuracy: 0.9087 - val_loss: 0.8108 - val_accuracy: 0.8556\n",
            "Epoch 11/100\n",
            "6/7 [========================>.....] - ETA: 0s - loss: 10.6401 - accuracy: 0.9062\n",
            "Epoch 11: val_loss improved from 0.81083 to 0.79483, saving model to weights.best.hdf5\n",
            "7/7 [==============================] - 7s 1s/step - loss: 9.8216 - accuracy: 0.9135 - val_loss: 0.7948 - val_accuracy: 0.8333\n",
            "Epoch 12/100\n",
            "6/7 [========================>.....] - ETA: 0s - loss: 19.7757 - accuracy: 0.8802\n",
            "Epoch 12: val_loss improved from 0.79483 to 0.77961, saving model to weights.best.hdf5\n",
            "7/7 [==============================] - 6s 1s/step - loss: 18.2545 - accuracy: 0.8894 - val_loss: 0.7796 - val_accuracy: 0.8000\n",
            "Epoch 13/100\n",
            "4/7 [================>.............] - ETA: 0s - loss: 11.7225 - accuracy: 0.9297   \n",
            "Epoch 13: val_loss improved from 0.77961 to 0.77441, saving model to weights.best.hdf5\n",
            "7/7 [==============================] - 11s 2s/step - loss: 12.0530 - accuracy: 0.9038 - val_loss: 0.7744 - val_accuracy: 0.8556\n",
            "Epoch 14/100\n",
            "5/7 [====================>.........] - ETA: 0s - loss: 7.9038 - accuracy: 0.9000 \n",
            "Epoch 14: val_loss did not improve from 0.77441\n",
            "7/7 [==============================] - 0s 23ms/step - loss: 6.6860 - accuracy: 0.9183 - val_loss: 0.7749 - val_accuracy: 0.8778\n",
            "Epoch 15/100\n",
            "5/7 [====================>.........] - ETA: 0s - loss: 11.0539 - accuracy: 0.9062\n",
            "Epoch 15: val_loss improved from 0.77441 to 0.76535, saving model to weights.best.hdf5\n",
            "7/7 [==============================] - 2s 262ms/step - loss: 10.1078 - accuracy: 0.9038 - val_loss: 0.7654 - val_accuracy: 0.8444\n",
            "Epoch 16/100\n",
            "6/7 [========================>.....] - ETA: 0s - loss: 6.2842 - accuracy: 0.9531\n",
            "Epoch 16: val_loss improved from 0.76535 to 0.75766, saving model to weights.best.hdf5\n",
            "7/7 [==============================] - 11s 2s/step - loss: 11.1382 - accuracy: 0.9519 - val_loss: 0.7577 - val_accuracy: 0.8333\n",
            "Epoch 17/100\n",
            "5/7 [====================>.........] - ETA: 0s - loss: 3.7592 - accuracy: 0.9750\n",
            "Epoch 17: val_loss improved from 0.75766 to 0.74590, saving model to weights.best.hdf5\n",
            "7/7 [==============================] - 4s 676ms/step - loss: 3.7940 - accuracy: 0.9760 - val_loss: 0.7459 - val_accuracy: 0.8444\n",
            "Epoch 18/100\n",
            "5/7 [====================>.........] - ETA: 0s - loss: 2.6444 - accuracy: 0.9500\n",
            "Epoch 18: val_loss improved from 0.74590 to 0.74274, saving model to weights.best.hdf5\n",
            "7/7 [==============================] - 6s 1s/step - loss: 4.8696 - accuracy: 0.9471 - val_loss: 0.7427 - val_accuracy: 0.8778\n",
            "Epoch 19/100\n",
            "5/7 [====================>.........] - ETA: 0s - loss: 4.4603 - accuracy: 0.9438\n",
            "Epoch 19: val_loss improved from 0.74274 to 0.73911, saving model to weights.best.hdf5\n",
            "7/7 [==============================] - 5s 873ms/step - loss: 4.8973 - accuracy: 0.9423 - val_loss: 0.7391 - val_accuracy: 0.8444\n",
            "Epoch 20/100\n",
            "4/7 [================>.............] - ETA: 0s - loss: 4.9609 - accuracy: 0.9531\n",
            "Epoch 20: val_loss did not improve from 0.73911\n",
            "7/7 [==============================] - 0s 25ms/step - loss: 5.4353 - accuracy: 0.9423 - val_loss: 0.7392 - val_accuracy: 0.8222\n",
            "Epoch 21/100\n",
            "5/7 [====================>.........] - ETA: 0s - loss: 10.5685 - accuracy: 0.9312\n",
            "Epoch 21: val_loss did not improve from 0.73911\n",
            "7/7 [==============================] - 0s 20ms/step - loss: 9.1931 - accuracy: 0.9375 - val_loss: 0.7408 - val_accuracy: 0.8444\n",
            "Epoch 22/100\n",
            "6/7 [========================>.....] - ETA: 0s - loss: 2.9182 - accuracy: 0.9583    \n",
            "Epoch 22: val_loss improved from 0.73911 to 0.73429, saving model to weights.best.hdf5\n",
            "7/7 [==============================] - 1s 246ms/step - loss: 2.6938 - accuracy: 0.9615 - val_loss: 0.7343 - val_accuracy: 0.8556\n",
            "Epoch 23/100\n",
            "6/7 [========================>.....] - ETA: 0s - loss: 3.4300 - accuracy: 0.9635    \n",
            "Epoch 23: val_loss improved from 0.73429 to 0.72601, saving model to weights.best.hdf5\n",
            "7/7 [==============================] - 6s 941ms/step - loss: 3.1661 - accuracy: 0.9663 - val_loss: 0.7260 - val_accuracy: 0.8111\n",
            "Epoch 24/100\n",
            "6/7 [========================>.....] - ETA: 0s - loss: 13.5433 - accuracy: 0.9427   \n",
            "Epoch 24: val_loss improved from 0.72601 to 0.69813, saving model to weights.best.hdf5\n",
            "7/7 [==============================] - 6s 1s/step - loss: 14.2680 - accuracy: 0.9423 - val_loss: 0.6981 - val_accuracy: 0.8111\n",
            "Epoch 25/100\n",
            "6/7 [========================>.....] - ETA: 0s - loss: 10.5206 - accuracy: 0.9271\n",
            "Epoch 25: val_loss improved from 0.69813 to 0.68985, saving model to weights.best.hdf5\n",
            "7/7 [==============================] - 12s 2s/step - loss: 9.7113 - accuracy: 0.9327 - val_loss: 0.6898 - val_accuracy: 0.8778\n",
            "Epoch 26/100\n",
            "5/7 [====================>.........] - ETA: 0s - loss: 4.2213 - accuracy: 0.9625\n",
            "Epoch 26: val_loss improved from 0.68985 to 0.67057, saving model to weights.best.hdf5\n",
            "7/7 [==============================] - 2s 261ms/step - loss: 4.4162 - accuracy: 0.9567 - val_loss: 0.6706 - val_accuracy: 0.8778\n",
            "Epoch 27/100\n",
            "6/7 [========================>.....] - ETA: 0s - loss: 9.3830 - accuracy: 0.9635 \n",
            "Epoch 27: val_loss improved from 0.67057 to 0.66268, saving model to weights.best.hdf5\n",
            "7/7 [==============================] - 5s 901ms/step - loss: 8.6612 - accuracy: 0.9663 - val_loss: 0.6627 - val_accuracy: 0.8556\n",
            "Epoch 28/100\n",
            "6/7 [========================>.....] - ETA: 0s - loss: 4.7941 - accuracy: 0.9740    \n",
            "Epoch 28: val_loss improved from 0.66268 to 0.66225, saving model to weights.best.hdf5\n",
            "7/7 [==============================] - 6s 1s/step - loss: 4.4254 - accuracy: 0.9760 - val_loss: 0.6623 - val_accuracy: 0.8556\n",
            "Epoch 29/100\n",
            "6/7 [========================>.....] - ETA: 0s - loss: 5.2628 - accuracy: 0.9531 \n",
            "Epoch 29: val_loss did not improve from 0.66225\n",
            "7/7 [==============================] - 0s 21ms/step - loss: 4.8579 - accuracy: 0.9567 - val_loss: 0.6797 - val_accuracy: 0.8222\n",
            "Epoch 30/100\n",
            "6/7 [========================>.....] - ETA: 0s - loss: 8.9485 - accuracy: 0.9427 \n",
            "Epoch 30: val_loss did not improve from 0.66225\n",
            "7/7 [==============================] - 0s 18ms/step - loss: 8.2602 - accuracy: 0.9471 - val_loss: 0.6911 - val_accuracy: 0.8778\n",
            "Epoch 31/100\n",
            "6/7 [========================>.....] - ETA: 0s - loss: 5.6973 - accuracy: 0.9375\n",
            "Epoch 31: val_loss did not improve from 0.66225\n",
            "7/7 [==============================] - 0s 19ms/step - loss: 5.2591 - accuracy: 0.9423 - val_loss: 0.6859 - val_accuracy: 0.8778\n",
            "Epoch 32/100\n",
            "6/7 [========================>.....] - ETA: 0s - loss: 7.1923 - accuracy: 0.9531 \n",
            "Epoch 32: val_loss did not improve from 0.66225\n",
            "7/7 [==============================] - 0s 18ms/step - loss: 6.8004 - accuracy: 0.9519 - val_loss: 0.6753 - val_accuracy: 0.8444\n",
            "Epoch 33/100\n",
            "6/7 [========================>.....] - ETA: 0s - loss: 5.4576 - accuracy: 0.9635 \n",
            "Epoch 33: val_loss improved from 0.66225 to 0.65574, saving model to weights.best.hdf5\n",
            "7/7 [==============================] - 6s 1s/step - loss: 5.4893 - accuracy: 0.9615 - val_loss: 0.6557 - val_accuracy: 0.8444\n",
            "Epoch 34/100\n",
            "6/7 [========================>.....] - ETA: 0s - loss: 4.2808 - accuracy: 0.9844\n",
            "Epoch 34: val_loss improved from 0.65574 to 0.65050, saving model to weights.best.hdf5\n",
            "7/7 [==============================] - 7s 1s/step - loss: 3.9515 - accuracy: 0.9856 - val_loss: 0.6505 - val_accuracy: 0.8889\n",
            "Epoch 35/100\n",
            "5/7 [====================>.........] - ETA: 0s - loss: 5.2729 - accuracy: 0.9688    \n",
            "Epoch 35: val_loss improved from 0.65050 to 0.64046, saving model to weights.best.hdf5\n",
            "7/7 [==============================] - 5s 845ms/step - loss: 4.0561 - accuracy: 0.9760 - val_loss: 0.6405 - val_accuracy: 0.8889\n",
            "Epoch 36/100\n",
            "5/7 [====================>.........] - ETA: 0s - loss: 0.8687 - accuracy: 0.9937    \n",
            "Epoch 36: val_loss improved from 0.64046 to 0.63006, saving model to weights.best.hdf5\n",
            "7/7 [==============================] - 1s 245ms/step - loss: 0.6682 - accuracy: 0.9952 - val_loss: 0.6301 - val_accuracy: 0.8889\n",
            "Epoch 37/100\n",
            "6/7 [========================>.....] - ETA: 0s - loss: 2.2575 - accuracy: 0.9896    \n",
            "Epoch 37: val_loss improved from 0.63006 to 0.62979, saving model to weights.best.hdf5\n",
            "7/7 [==============================] - 6s 1s/step - loss: 2.0839 - accuracy: 0.9904 - val_loss: 0.6298 - val_accuracy: 0.8444\n",
            "Epoch 38/100\n",
            "6/7 [========================>.....] - ETA: 0s - loss: 3.5135 - accuracy: 0.9740    \n",
            "Epoch 38: val_loss did not improve from 0.62979\n",
            "7/7 [==============================] - 0s 18ms/step - loss: 3.2432 - accuracy: 0.9760 - val_loss: 0.6354 - val_accuracy: 0.8667\n",
            "Epoch 39/100\n",
            "6/7 [========================>.....] - ETA: 0s - loss: 1.2951 - accuracy: 0.9844\n",
            "Epoch 39: val_loss did not improve from 0.62979\n",
            "7/7 [==============================] - 0s 19ms/step - loss: 2.2612 - accuracy: 0.9760 - val_loss: 0.6394 - val_accuracy: 0.8556\n",
            "Epoch 40/100\n",
            "6/7 [========================>.....] - ETA: 0s - loss: 0.9592 - accuracy: 0.9740\n",
            "Epoch 40: val_loss did not improve from 0.62979\n",
            "7/7 [==============================] - 0s 17ms/step - loss: 1.9206 - accuracy: 0.9663 - val_loss: 0.6338 - val_accuracy: 0.9000\n",
            "Epoch 41/100\n",
            "6/7 [========================>.....] - ETA: 0s - loss: 1.2359 - accuracy: 0.9896\n",
            "Epoch 41: val_loss did not improve from 0.62979\n",
            "7/7 [==============================] - 0s 19ms/step - loss: 1.1408 - accuracy: 0.9904 - val_loss: 0.6368 - val_accuracy: 0.8889\n",
            "Epoch 42/100\n",
            "6/7 [========================>.....] - ETA: 0s - loss: 1.9179 - accuracy: 0.9740    \n",
            "Epoch 42: val_loss did not improve from 0.62979\n",
            "7/7 [==============================] - 0s 19ms/step - loss: 2.2411 - accuracy: 0.9712 - val_loss: 0.6430 - val_accuracy: 0.9000\n",
            "Epoch 43/100\n",
            "6/7 [========================>.....] - ETA: 0s - loss: 3.9577 - accuracy: 0.9792    \n",
            "Epoch 43: val_loss did not improve from 0.62979\n",
            "7/7 [==============================] - 0s 19ms/step - loss: 3.6533 - accuracy: 0.9808 - val_loss: 0.6427 - val_accuracy: 0.9111\n",
            "Epoch 44/100\n",
            "6/7 [========================>.....] - ETA: 0s - loss: 4.3381 - accuracy: 0.9740    \n",
            "Epoch 44: val_loss did not improve from 0.62979\n",
            "7/7 [==============================] - 0s 17ms/step - loss: 4.0044 - accuracy: 0.9760 - val_loss: 0.6384 - val_accuracy: 0.9222\n",
            "Epoch 45/100\n",
            "6/7 [========================>.....] - ETA: 0s - loss: 3.5741 - accuracy: 0.9792\n",
            "Epoch 45: val_loss did not improve from 0.62979\n",
            "7/7 [==============================] - 0s 17ms/step - loss: 3.2991 - accuracy: 0.9808 - val_loss: 0.6367 - val_accuracy: 0.8667\n",
            "Epoch 46/100\n",
            "6/7 [========================>.....] - ETA: 0s - loss: 2.1963 - accuracy: 0.9896    \n",
            "Epoch 46: val_loss did not improve from 0.62979\n",
            "7/7 [==============================] - 0s 17ms/step - loss: 2.3075 - accuracy: 0.9856 - val_loss: 0.6361 - val_accuracy: 0.8667\n",
            "Epoch 47/100\n",
            "6/7 [========================>.....] - ETA: 0s - loss: 0.7797 - accuracy: 0.9740\n",
            "Epoch 47: val_loss improved from 0.62979 to 0.62735, saving model to weights.best.hdf5\n",
            "7/7 [==============================] - 7s 1s/step - loss: 0.7198 - accuracy: 0.9760 - val_loss: 0.6274 - val_accuracy: 0.8778\n",
            "Epoch 48/100\n",
            "6/7 [========================>.....] - ETA: 0s - loss: 2.6136 - accuracy: 0.9792\n",
            "Epoch 48: val_loss improved from 0.62735 to 0.62389, saving model to weights.best.hdf5\n",
            "7/7 [==============================] - 7s 1s/step - loss: 2.4126 - accuracy: 0.9808 - val_loss: 0.6239 - val_accuracy: 0.8667\n",
            "Epoch 49/100\n",
            "5/7 [====================>.........] - ETA: 0s - loss: 3.4457 - accuracy: 0.9812    \n",
            "Epoch 49: val_loss did not improve from 0.62389\n",
            "7/7 [==============================] - 0s 25ms/step - loss: 5.1859 - accuracy: 0.9760 - val_loss: 0.6248 - val_accuracy: 0.8556\n",
            "Epoch 50/100\n",
            "5/7 [====================>.........] - ETA: 0s - loss: 1.7276 - accuracy: 0.9750    \n",
            "Epoch 50: val_loss did not improve from 0.62389\n",
            "7/7 [==============================] - 0s 21ms/step - loss: 8.2805 - accuracy: 0.9663 - val_loss: 0.6275 - val_accuracy: 0.8556\n",
            "Epoch 51/100\n",
            "6/7 [========================>.....] - ETA: 0s - loss: 4.2548 - accuracy: 0.9844    \n",
            "Epoch 51: val_loss did not improve from 0.62389\n",
            "7/7 [==============================] - 0s 17ms/step - loss: 3.9275 - accuracy: 0.9856 - val_loss: 0.6419 - val_accuracy: 0.8778\n",
            "Epoch 52/100\n",
            "6/7 [========================>.....] - ETA: 0s - loss: 6.5908 - accuracy: 0.9635    \n",
            "Epoch 52: val_loss did not improve from 0.62389\n",
            "7/7 [==============================] - 0s 18ms/step - loss: 6.0838 - accuracy: 0.9663 - val_loss: 0.6425 - val_accuracy: 0.8667\n",
            "Epoch 53/100\n",
            "6/7 [========================>.....] - ETA: 0s - loss: 2.3644 - accuracy: 0.9896    \n",
            "Epoch 53: val_loss did not improve from 0.62389\n",
            "7/7 [==============================] - 0s 17ms/step - loss: 2.3824 - accuracy: 0.9856 - val_loss: 0.6404 - val_accuracy: 0.8556\n",
            "Epoch 54/100\n",
            "6/7 [========================>.....] - ETA: 0s - loss: 5.1834 - accuracy: 0.9688    \n",
            "Epoch 54: val_loss did not improve from 0.62389\n",
            "7/7 [==============================] - 0s 17ms/step - loss: 4.7847 - accuracy: 0.9712 - val_loss: 0.6347 - val_accuracy: 0.8667\n",
            "Epoch 55/100\n",
            "6/7 [========================>.....] - ETA: 0s - loss: 4.1425 - accuracy: 0.9792\n",
            "Epoch 55: val_loss did not improve from 0.62389\n",
            "7/7 [==============================] - 0s 20ms/step - loss: 3.8238 - accuracy: 0.9808 - val_loss: 0.6277 - val_accuracy: 0.8778\n",
            "Epoch 56/100\n",
            "6/7 [========================>.....] - ETA: 0s - loss: 2.1130 - accuracy: 0.9896    \n",
            "Epoch 56: val_loss did not improve from 0.62389\n",
            "7/7 [==============================] - 0s 17ms/step - loss: 1.9505 - accuracy: 0.9904 - val_loss: 0.6253 - val_accuracy: 0.8889\n",
            "Epoch 57/100\n",
            "6/7 [========================>.....] - ETA: 0s - loss: 5.2534 - accuracy: 0.9635    \n",
            "Epoch 57: val_loss improved from 0.62389 to 0.62336, saving model to weights.best.hdf5\n",
            "7/7 [==============================] - 10s 2s/step - loss: 4.8493 - accuracy: 0.9663 - val_loss: 0.6234 - val_accuracy: 0.8667\n",
            "Epoch 58/100\n",
            "5/7 [====================>.........] - ETA: 0s - loss: 0.0000e+00 - accuracy: 1.0000\n",
            "Epoch 58: val_loss improved from 0.62336 to 0.62145, saving model to weights.best.hdf5\n",
            "7/7 [==============================] - 2s 289ms/step - loss: 0.0000e+00 - accuracy: 1.0000 - val_loss: 0.6214 - val_accuracy: 0.8444\n",
            "Epoch 59/100\n",
            "6/7 [========================>.....] - ETA: 0s - loss: 1.7174 - accuracy: 0.9844    \n",
            "Epoch 59: val_loss improved from 0.62145 to 0.61988, saving model to weights.best.hdf5\n",
            "7/7 [==============================] - 6s 1s/step - loss: 1.5853 - accuracy: 0.9856 - val_loss: 0.6199 - val_accuracy: 0.8444\n",
            "Epoch 60/100\n",
            "5/7 [====================>.........] - ETA: 0s - loss: 1.3362 - accuracy: 0.9875    \n",
            "Epoch 60: val_loss did not improve from 0.61988\n",
            "7/7 [==============================] - 0s 20ms/step - loss: 1.9442 - accuracy: 0.9856 - val_loss: 0.6260 - val_accuracy: 0.8667\n",
            "Epoch 61/100\n",
            "6/7 [========================>.....] - ETA: 0s - loss: 2.8758 - accuracy: 0.9740\n",
            "Epoch 61: val_loss did not improve from 0.61988\n",
            "7/7 [==============================] - 0s 19ms/step - loss: 2.6546 - accuracy: 0.9760 - val_loss: 0.6266 - val_accuracy: 0.8778\n",
            "Epoch 62/100\n",
            "6/7 [========================>.....] - ETA: 0s - loss: 3.5718 - accuracy: 0.9844    \n",
            "Epoch 62: val_loss did not improve from 0.61988\n",
            "7/7 [==============================] - 0s 19ms/step - loss: 3.2971 - accuracy: 0.9856 - val_loss: 0.6274 - val_accuracy: 0.8778\n",
            "Epoch 63/100\n",
            "6/7 [========================>.....] - ETA: 0s - loss: 0.7899 - accuracy: 0.9844\n",
            "Epoch 63: val_loss did not improve from 0.61988\n",
            "7/7 [==============================] - 0s 18ms/step - loss: 0.7291 - accuracy: 0.9856 - val_loss: 0.6314 - val_accuracy: 0.8667\n",
            "Epoch 64/100\n",
            "6/7 [========================>.....] - ETA: 0s - loss: 2.1941 - accuracy: 0.9896    \n",
            "Epoch 64: val_loss did not improve from 0.61988\n",
            "7/7 [==============================] - 0s 19ms/step - loss: 2.0254 - accuracy: 0.9904 - val_loss: 0.6421 - val_accuracy: 0.8444\n",
            "Epoch 65/100\n",
            "6/7 [========================>.....] - ETA: 0s - loss: 5.2666e-06 - accuracy: 1.0000\n",
            "Epoch 65: val_loss did not improve from 0.61988\n",
            "7/7 [==============================] - 0s 18ms/step - loss: 4.8630e-06 - accuracy: 1.0000 - val_loss: 0.6522 - val_accuracy: 0.8444\n",
            "Epoch 66/100\n",
            "6/7 [========================>.....] - ETA: 0s - loss: 2.4700 - accuracy: 0.9688 \n",
            "Epoch 66: val_loss did not improve from 0.61988\n",
            "7/7 [==============================] - 0s 19ms/step - loss: 2.2800 - accuracy: 0.9712 - val_loss: 0.6608 - val_accuracy: 0.8333\n",
            "Epoch 67/100\n",
            "6/7 [========================>.....] - ETA: 0s - loss: 4.1086 - accuracy: 0.9792    \n",
            "Epoch 67: val_loss did not improve from 0.61988\n",
            "7/7 [==============================] - 0s 18ms/step - loss: 3.7926 - accuracy: 0.9808 - val_loss: 0.6595 - val_accuracy: 0.8667\n",
            "Epoch 68/100\n",
            "6/7 [========================>.....] - ETA: 0s - loss: 1.8846 - accuracy: 0.9896    \n",
            "Epoch 68: val_loss did not improve from 0.61988\n",
            "7/7 [==============================] - 0s 19ms/step - loss: 1.7396 - accuracy: 0.9904 - val_loss: 0.6575 - val_accuracy: 0.8667\n",
            "Epoch 69/100\n",
            "6/7 [========================>.....] - ETA: 0s - loss: 2.7639 - accuracy: 0.9792    \n",
            "Epoch 69: val_loss did not improve from 0.61988\n",
            "7/7 [==============================] - 0s 18ms/step - loss: 2.5513 - accuracy: 0.9808 - val_loss: 0.6479 - val_accuracy: 0.8667\n",
            "Epoch 70/100\n",
            "6/7 [========================>.....] - ETA: 0s - loss: 2.4980 - accuracy: 0.9792\n",
            "Epoch 70: val_loss did not improve from 0.61988\n",
            "7/7 [==============================] - 0s 18ms/step - loss: 2.3058 - accuracy: 0.9808 - val_loss: 0.6404 - val_accuracy: 0.8556\n",
            "Epoch 71/100\n",
            "6/7 [========================>.....] - ETA: 0s - loss: 3.6538 - accuracy: 0.9844    \n",
            "Epoch 71: val_loss did not improve from 0.61988\n",
            "7/7 [==============================] - 0s 19ms/step - loss: 3.7575 - accuracy: 0.9808 - val_loss: 0.6445 - val_accuracy: 0.8556\n",
            "Epoch 72/100\n",
            "6/7 [========================>.....] - ETA: 0s - loss: 0.3856 - accuracy: 0.9948    \n",
            "Epoch 72: val_loss did not improve from 0.61988\n",
            "7/7 [==============================] - 0s 19ms/step - loss: 0.3559 - accuracy: 0.9952 - val_loss: 0.6412 - val_accuracy: 0.8556\n",
            "Epoch 73/100\n",
            "6/7 [========================>.....] - ETA: 0s - loss: 3.8912 - accuracy: 0.9896    \n",
            "Epoch 73: val_loss did not improve from 0.61988\n",
            "7/7 [==============================] - 0s 19ms/step - loss: 3.5919 - accuracy: 0.9904 - val_loss: 0.6420 - val_accuracy: 0.8444\n",
            "Epoch 74/100\n",
            "6/7 [========================>.....] - ETA: 0s - loss: 3.0131e-04 - accuracy: 1.0000\n",
            "Epoch 74: val_loss did not improve from 0.61988\n",
            "7/7 [==============================] - 0s 18ms/step - loss: 2.7813e-04 - accuracy: 1.0000 - val_loss: 0.6431 - val_accuracy: 0.8333\n",
            "Epoch 75/100\n",
            "6/7 [========================>.....] - ETA: 0s - loss: 1.2656 - accuracy: 0.9844    \n",
            "Epoch 75: val_loss did not improve from 0.61988\n",
            "7/7 [==============================] - 0s 17ms/step - loss: 1.1683 - accuracy: 0.9856 - val_loss: 0.6420 - val_accuracy: 0.8556\n",
            "Epoch 76/100\n",
            "6/7 [========================>.....] - ETA: 0s - loss: 2.0933 - accuracy: 0.9844    \n",
            "Epoch 76: val_loss did not improve from 0.61988\n",
            "7/7 [==============================] - 0s 19ms/step - loss: 1.9323 - accuracy: 0.9856 - val_loss: 0.6429 - val_accuracy: 0.8778\n",
            "Epoch 77/100\n",
            "6/7 [========================>.....] - ETA: 0s - loss: 4.4073 - accuracy: 0.9896\n",
            "Epoch 77: val_loss did not improve from 0.61988\n",
            "7/7 [==============================] - 0s 18ms/step - loss: 4.0683 - accuracy: 0.9904 - val_loss: 0.6486 - val_accuracy: 0.8444\n",
            "Epoch 78/100\n",
            "6/7 [========================>.....] - ETA: 0s - loss: 0.2549 - accuracy: 0.9948    \n",
            "Epoch 78: val_loss did not improve from 0.61988\n",
            "7/7 [==============================] - 0s 18ms/step - loss: 0.2353 - accuracy: 0.9952 - val_loss: 0.6512 - val_accuracy: 0.8444\n",
            "Epoch 79/100\n",
            "6/7 [========================>.....] - ETA: 0s - loss: 2.0204 - accuracy: 0.9844    \n",
            "Epoch 79: val_loss did not improve from 0.61988\n",
            "7/7 [==============================] - 0s 17ms/step - loss: 1.8650 - accuracy: 0.9856 - val_loss: 0.6423 - val_accuracy: 0.8333\n",
            "Epoch 80/100\n",
            "6/7 [========================>.....] - ETA: 0s - loss: 1.3179 - accuracy: 0.9896    \n",
            "Epoch 80: val_loss did not improve from 0.61988\n",
            "7/7 [==============================] - 0s 19ms/step - loss: 1.2165 - accuracy: 0.9904 - val_loss: 0.6342 - val_accuracy: 0.8667\n",
            "Epoch 81/100\n",
            "6/7 [========================>.....] - ETA: 0s - loss: 2.3469 - accuracy: 0.9844\n",
            "Epoch 81: val_loss did not improve from 0.61988\n",
            "7/7 [==============================] - 0s 17ms/step - loss: 2.3707 - accuracy: 0.9808 - val_loss: 0.6317 - val_accuracy: 0.8556\n",
            "Epoch 82/100\n",
            "6/7 [========================>.....] - ETA: 0s - loss: 1.1670 - accuracy: 0.9948    \n",
            "Epoch 82: val_loss did not improve from 0.61988\n",
            "7/7 [==============================] - 0s 20ms/step - loss: 1.6960 - accuracy: 0.9904 - val_loss: 0.6397 - val_accuracy: 0.8444\n",
            "Epoch 83/100\n",
            "6/7 [========================>.....] - ETA: 0s - loss: 1.9620 - accuracy: 0.9740    \n",
            "Epoch 83: val_loss did not improve from 0.61988\n",
            "7/7 [==============================] - 0s 19ms/step - loss: 3.3153 - accuracy: 0.9712 - val_loss: 0.6352 - val_accuracy: 0.8667\n",
            "Epoch 84/100\n",
            "6/7 [========================>.....] - ETA: 0s - loss: 5.3189 - accuracy: 0.9792    \n",
            "Epoch 84: val_loss did not improve from 0.61988\n",
            "7/7 [==============================] - 0s 19ms/step - loss: 5.0099 - accuracy: 0.9760 - val_loss: 0.6377 - val_accuracy: 0.8778\n",
            "Epoch 85/100\n",
            "6/7 [========================>.....] - ETA: 0s - loss: 1.5311 - accuracy: 0.9896    \n",
            "Epoch 85: val_loss did not improve from 0.61988\n",
            "7/7 [==============================] - 0s 19ms/step - loss: 1.4646 - accuracy: 0.9856 - val_loss: 0.6508 - val_accuracy: 0.8000\n",
            "Epoch 86/100\n",
            "6/7 [========================>.....] - ETA: 0s - loss: 2.4325 - accuracy: 0.9896    \n",
            "Epoch 86: val_loss did not improve from 0.61988\n",
            "7/7 [==============================] - 0s 17ms/step - loss: 2.2454 - accuracy: 0.9904 - val_loss: 0.6438 - val_accuracy: 0.8556\n",
            "Epoch 87/100\n",
            "6/7 [========================>.....] - ETA: 0s - loss: 2.2565 - accuracy: 0.9896    \n",
            "Epoch 87: val_loss did not improve from 0.61988\n",
            "7/7 [==============================] - 0s 19ms/step - loss: 2.1404 - accuracy: 0.9856 - val_loss: 0.6380 - val_accuracy: 0.8667\n",
            "Epoch 88/100\n",
            "6/7 [========================>.....] - ETA: 0s - loss: 0.8613 - accuracy: 0.9948    \n",
            "Epoch 88: val_loss did not improve from 0.61988\n",
            "7/7 [==============================] - 0s 17ms/step - loss: 0.7951 - accuracy: 0.9952 - val_loss: 0.6293 - val_accuracy: 0.8778\n",
            "Epoch 89/100\n",
            "6/7 [========================>.....] - ETA: 0s - loss: 2.2100 - accuracy: 0.9948 \n",
            "Epoch 89: val_loss did not improve from 0.61988\n",
            "7/7 [==============================] - 0s 23ms/step - loss: 2.4523 - accuracy: 0.9904 - val_loss: 0.6292 - val_accuracy: 0.8778\n",
            "Epoch 90/100\n",
            "5/7 [====================>.........] - ETA: 0s - loss: 0.1723 - accuracy: 0.9875\n",
            "Epoch 90: val_loss improved from 0.61988 to 0.61757, saving model to weights.best.hdf5\n",
            "7/7 [==============================] - 7s 1s/step - loss: 4.0390 - accuracy: 0.9856 - val_loss: 0.6176 - val_accuracy: 0.8889\n",
            "Epoch 91/100\n",
            "4/7 [================>.............] - ETA: 0s - loss: 6.0183 - accuracy: 0.9766\n",
            "Epoch 91: val_loss improved from 0.61757 to 0.61542, saving model to weights.best.hdf5\n",
            "7/7 [==============================] - 6s 1s/step - loss: 4.3207 - accuracy: 0.9808 - val_loss: 0.6154 - val_accuracy: 0.8667\n",
            "Epoch 92/100\n",
            "5/7 [====================>.........] - ETA: 0s - loss: 3.4517 - accuracy: 0.9875    \n",
            "Epoch 92: val_loss did not improve from 0.61542\n",
            "7/7 [==============================] - 0s 20ms/step - loss: 3.6468 - accuracy: 0.9856 - val_loss: 0.6214 - val_accuracy: 0.8444\n",
            "Epoch 93/100\n",
            "6/7 [========================>.....] - ETA: 0s - loss: 0.4328 - accuracy: 0.9948    \n",
            "Epoch 93: val_loss did not improve from 0.61542\n",
            "7/7 [==============================] - 0s 20ms/step - loss: 0.3995 - accuracy: 0.9952 - val_loss: 0.6273 - val_accuracy: 0.8444\n",
            "Epoch 94/100\n",
            "6/7 [========================>.....] - ETA: 0s - loss: 2.2440 - accuracy: 0.9896    \n",
            "Epoch 94: val_loss did not improve from 0.61542\n",
            "7/7 [==============================] - 0s 17ms/step - loss: 2.0714 - accuracy: 0.9904 - val_loss: 0.6304 - val_accuracy: 0.8444\n",
            "Epoch 95/100\n",
            "6/7 [========================>.....] - ETA: 0s - loss: 4.9179 - accuracy: 0.9792    \n",
            "Epoch 95: val_loss did not improve from 0.61542\n",
            "7/7 [==============================] - 0s 19ms/step - loss: 4.5396 - accuracy: 0.9808 - val_loss: 0.6293 - val_accuracy: 0.8667\n",
            "Epoch 96/100\n",
            "6/7 [========================>.....] - ETA: 0s - loss: 0.2336 - accuracy: 0.9948    \n",
            "Epoch 96: val_loss did not improve from 0.61542\n",
            "7/7 [==============================] - 0s 17ms/step - loss: 0.2156 - accuracy: 0.9952 - val_loss: 0.6309 - val_accuracy: 0.8667\n",
            "Epoch 97/100\n",
            "6/7 [========================>.....] - ETA: 0s - loss: 0.0374 - accuracy: 0.9948\n",
            "Epoch 97: val_loss did not improve from 0.61542\n",
            "7/7 [==============================] - 0s 18ms/step - loss: 0.0345 - accuracy: 0.9952 - val_loss: 0.6337 - val_accuracy: 0.8667\n",
            "Epoch 98/100\n",
            "6/7 [========================>.....] - ETA: 0s - loss: 0.5829 - accuracy: 0.9948    \n",
            "Epoch 98: val_loss did not improve from 0.61542\n",
            "7/7 [==============================] - 0s 16ms/step - loss: 1.0401 - accuracy: 0.9904 - val_loss: 0.6353 - val_accuracy: 0.8889\n",
            "Epoch 99/100\n",
            "6/7 [========================>.....] - ETA: 0s - loss: 0.4566 - accuracy: 0.9844\n",
            "Epoch 99: val_loss did not improve from 0.61542\n",
            "7/7 [==============================] - 0s 19ms/step - loss: 0.4215 - accuracy: 0.9856 - val_loss: 0.6383 - val_accuracy: 0.8889\n",
            "Epoch 100/100\n",
            "6/7 [========================>.....] - ETA: 0s - loss: 1.3920 - accuracy: 0.9896\n",
            "Epoch 100: val_loss did not improve from 0.61542\n",
            "7/7 [==============================] - 0s 18ms/step - loss: 1.2850 - accuracy: 0.9904 - val_loss: 0.6412 - val_accuracy: 0.8778\n"
          ]
        },
        {
          "output_type": "execute_result",
          "data": {
            "text/plain": [
              "<keras.src.callbacks.History at 0x7a89f4be9ab0>"
            ]
          },
          "metadata": {},
          "execution_count": 245
        }
      ]
    },
    {
      "cell_type": "code",
      "source": [
        "model.load_weights(\"weights.best.hdf5\")\n",
        "model.compile(loss='categorical_crossentropy', optimizer='adam', metrics=['accuracy'])\n",
        "scores = model.predict(test_image)"
      ],
      "metadata": {
        "colab": {
          "base_uri": "https://localhost:8080/"
        },
        "id": "j7UzqKp6-RqA",
        "outputId": "cbb86971-66d1-4a1c-e853-3f433393bb32"
      },
      "execution_count": 246,
      "outputs": [
        {
          "output_type": "stream",
          "name": "stdout",
          "text": [
            "6/6 [==============================] - 0s 3ms/step\n"
          ]
        }
      ]
    },
    {
      "cell_type": "code",
      "source": [
        "import numpy as np\n",
        "argmaxes = []\n",
        "for sublist in scores:\n",
        "  argmaxes.append(np.argmax(sublist))\n",
        "print(argmaxes)\n"
      ],
      "metadata": {
        "colab": {
          "base_uri": "https://localhost:8080/"
        },
        "id": "emDOuzEMFiZt",
        "outputId": "403b73ac-f6c3-4b7b-c512-ca53c6f28fe5"
      },
      "execution_count": 247,
      "outputs": [
        {
          "output_type": "stream",
          "name": "stdout",
          "text": [
            "[2, 2, 0, 2, 2, 2, 0, 1, 2, 2, 2, 2, 2, 2, 2, 2, 2, 2, 2, 2, 2, 2, 2, 2, 2, 2, 2, 2, 0, 2, 2, 2, 2, 2, 2, 0, 2, 2, 2, 2, 2, 0, 2, 2, 2, 1, 2, 0, 0, 2, 2, 2, 2, 2, 2, 2, 2, 2, 2, 1, 2, 2, 2, 2, 2, 2, 2, 0, 2, 2, 2, 0, 2, 2, 2, 2, 2, 2, 0, 0, 2, 2, 2, 2, 2, 2, 2, 2, 2, 2, 2, 2, 2, 2, 0, 2, 2, 2, 2, 2, 0, 0, 0, 0, 0, 0, 2, 0, 0, 0, 0, 0, 2, 2, 2, 0, 0, 0, 0, 0, 2, 2, 0, 0, 2, 2, 0, 0, 2, 2, 1, 0, 0, 0, 0, 0, 0, 0, 0, 0, 2, 2, 2, 2, 2, 0, 1, 2, 0, 2, 2, 2, 2, 2, 2, 2, 0, 0, 2, 2, 2, 2, 2, 2, 2, 2, 2, 2, 2, 2, 2, 2, 2, 2, 2, 2, 2, 2, 2, 0, 2, 2, 2, 2, 2, 2]\n"
          ]
        }
      ]
    },
    {
      "cell_type": "code",
      "source": [
        "time = pd.Series(argmaxes).value_counts()"
      ],
      "metadata": {
        "id": "KrT2EiNGG-Kj"
      },
      "execution_count": 249,
      "outputs": []
    },
    {
      "cell_type": "code",
      "source": [
        "print(\"Screen Time of Tom:\", time[2],  \"sec\")\n",
        "print(\"Screen Time of Jerry:\", time[1],  \"sec\")\n",
        "print(\"Screen Time neither of Tom or Jerry:\", time[0],  \"sec\")"
      ],
      "metadata": {
        "colab": {
          "base_uri": "https://localhost:8080/"
        },
        "id": "vARmJauXHSaQ",
        "outputId": "2615e7af-8d77-49ca-a22c-8842586dbd95"
      },
      "execution_count": 254,
      "outputs": [
        {
          "output_type": "stream",
          "name": "stdout",
          "text": [
            "Screen Time of Tom: 135 sec\n",
            "Screen Time of Jerry: 5 sec\n",
            "Screen Time neither of Tom or Jerry: 46 sec\n"
          ]
        }
      ]
    },
    {
      "cell_type": "code",
      "source": [],
      "metadata": {
        "id": "nzxUO8HXUIPg"
      },
      "execution_count": null,
      "outputs": []
    }
  ]
}